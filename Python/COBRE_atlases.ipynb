{
 "cells": [
  {
   "cell_type": "markdown",
   "metadata": {},
   "source": [
    "# Load necessary packages"
   ]
  },
  {
   "cell_type": "code",
   "execution_count": 2,
   "metadata": {},
   "outputs": [],
   "source": [
    "# Load packages\n",
    "from nilearn import datasets\n",
    "from nilearn import input_data\n",
    "import numpy as np\n",
    "import pandas as pd\n",
    "\n",
    "band_type = \"Band\"\n",
    "\n",
    "dir_name = \"~/Documents/COBRE/Raw Data/\" + band_type +\"_pass/\""
   ]
  },
  {
   "cell_type": "markdown",
   "metadata": {},
   "source": [
    "# Set up the atlasses and data"
   ]
  },
  {
   "cell_type": "code",
   "execution_count": 3,
   "metadata": {},
   "outputs": [
    {
     "name": "stdout",
     "output_type": "stream",
     "text": [
      "MSDL is a functional atlas with 39 regions.\n",
      "AAL is an atomical atlas with 116 regions.\n",
      "There are 146 subjects in the COBRE dataset.\n"
     ]
    },
    {
     "name": "stderr",
     "output_type": "stream",
     "text": [
      "/Users/matthewryan/opt/anaconda3/lib/python3.8/site-packages/numpy/lib/npyio.py:2372: VisibleDeprecationWarning: Reading unicode strings without specifying the encoding argument is deprecated. Set the encoding, use None for the system default.\n",
      "  output = genfromtxt(fname, **kwargs)\n",
      "/Users/matthewryan/opt/anaconda3/lib/python3.8/site-packages/numpy/lib/npyio.py:2372: VisibleDeprecationWarning: Reading unicode strings without specifying the encoding argument is deprecated. Set the encoding, use None for the system default.\n",
      "  output = genfromtxt(fname, **kwargs)\n"
     ]
    }
   ],
   "source": [
    "# Get relevant data\n",
    "\n",
    "## MSDL atlas\n",
    "msdl = datasets.fetch_atlas_msdl( verbose = 0 )\n",
    "msdl_map = msdl.maps\n",
    "msdl_coords = msdl.region_coords\n",
    "msdl_n_regions = len(msdl_coords)\n",
    "msdl_labels = msdl.labels\n",
    "print( \"MSDL is a functional atlas with {} regions.\" .format( msdl_n_regions ) )\n",
    "\n",
    "## AAL\n",
    "aal = datasets.fetch_atlas_aal( verbose = 0 )\n",
    "aal_map = aal.maps\n",
    "aal_labels = aal.labels\n",
    "aal_n_regions = len( aal.labels )\n",
    "print( \"AAL is an atomical atlas with {} regions.\" .format( aal_n_regions ) )\n",
    "\n",
    "## COBRE data\n",
    "n_subjects = None\n",
    "cobre_data = datasets.fetch_cobre( n_subjects = n_subjects, verbose = 0 )\n",
    "print( \"There are {} subjects in the COBRE dataset.\" .format( len( cobre_data.func ) ) )"
   ]
  },
  {
   "cell_type": "code",
   "execution_count": 11,
   "metadata": {},
   "outputs": [],
   "source": [
    "cobre_data.func.sort()\n",
    "cobre_data.confounds.sort()"
   ]
  },
  {
   "cell_type": "markdown",
   "metadata": {},
   "source": [
    "# Create MSDL atlas"
   ]
  },
  {
   "cell_type": "code",
   "execution_count": 14,
   "metadata": {},
   "outputs": [],
   "source": [
    "# Create and save MSDL atlas\n",
    "msdl_atlas = input_data.NiftiMapsMasker( msdl.maps, resampling_target = \"data\", t_r = 2, detrend = True,\n",
    "                                         standardize = True, memory = \"nilearn_cache\", \n",
    "                                         memory_level = 1 ).fit()\n",
    "\n",
    "for i, (func_file, conf_file) in enumerate( zip( cobre_data.func, cobre_data.confounds ) ):\n",
    "    file_name = dir_name + \"MSDL/msdl_subject_\" + str( i ) + \".csv\"\n",
    "    temp = msdl_atlas.transform( func_file, confounds = conf_file )\n",
    "    temp_df = pd.DataFrame( temp, columns = msdl_labels )\n",
    "    temp_df.to_csv( file_name, header = True, sep = \",\" )\n",
    "    del file_name, temp, temp_df"
   ]
  },
  {
   "cell_type": "markdown",
   "metadata": {},
   "source": [
    "# Create AAL Atlas"
   ]
  },
  {
   "cell_type": "code",
   "execution_count": 15,
   "metadata": {},
   "outputs": [],
   "source": [
    "# Create and save AAL atlas\n",
    "aal_atlas = input_data.NiftiLabelsMasker( aal.maps, resampling_target = \"data\", t_r = 2, detrend = True,\n",
    "                                         standardize = True, memory = \"nilearn_cache\", \n",
    "                                         memory_level = 1 ).fit()\n",
    "\n",
    "for i, (func_file, conf_file) in enumerate( zip( cobre_data.func, cobre_data.confounds ) ):\n",
    "    file_name = dir_name + \"AAL/aal_subject_\" + str( i ) + \".csv\"\n",
    "    temp = aal_atlas.transform( func_file, confounds = conf_file )\n",
    "    temp_df = pd.DataFrame( temp, columns = aal_labels )\n",
    "    temp_df.to_csv( file_name, header = True, sep = \",\" )\n",
    "    del file_name, temp, temp_df"
   ]
  },
  {
   "cell_type": "markdown",
   "metadata": {},
   "source": [
    "# Create Power Atlas"
   ]
  },
  {
   "cell_type": "code",
   "execution_count": 16,
   "metadata": {},
   "outputs": [],
   "source": [
    "power = datasets.fetch_coords_power_2011()\n",
    "power_coords = np.delete(power.rois, 74, 0) # Drop 75 in conjunction with paper\n",
    "power_atlas = input_data.NiftiSpheresMasker(seeds = power_coords[[\"x\", \"y\", \"z\"]],\n",
    "                                            radius = 10,\n",
    "                                            t_r = 2,\n",
    "                                            detrend = True,\n",
    "                                            low_pass=0.1,\n",
    "                                            high_pass=0.01,\n",
    "                                            allow_overlap = True).fit()"
   ]
  },
  {
   "cell_type": "code",
   "execution_count": 17,
   "metadata": {},
   "outputs": [],
   "source": [
    "for i, (func_file, conf_file) in enumerate( zip( cobre_data.func, cobre_data.confounds ) ):\n",
    "    file_name = dir_name + \"Power/power_subject_\" + str( i ) + \".csv\"\n",
    "    temp = power_atlas.transform( func_file, confounds = conf_file )\n",
    "    temp_df = pd.DataFrame( temp, columns = power_coords[[\"roi\"]] )\n",
    "    temp_df.to_csv( file_name, header = True, sep = \",\" )\n",
    "    del file_name, temp, temp_df"
   ]
  }
 ],
 "metadata": {
  "kernelspec": {
   "display_name": "Python 3",
   "language": "python",
   "name": "python3"
  },
  "language_info": {
   "codemirror_mode": {
    "name": "ipython",
    "version": 3
   },
   "file_extension": ".py",
   "mimetype": "text/x-python",
   "name": "python",
   "nbconvert_exporter": "python",
   "pygments_lexer": "ipython3",
   "version": "3.8.3"
  }
 },
 "nbformat": 4,
 "nbformat_minor": 4
}
